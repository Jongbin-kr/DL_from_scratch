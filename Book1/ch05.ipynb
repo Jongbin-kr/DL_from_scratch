{
 "cells": [
  {
   "cell_type": "markdown",
   "metadata": {},
   "source": [
    "## 5.4. 단순한 계층 구현하기"
   ]
  },
  {
   "cell_type": "code",
   "execution_count": 17,
   "metadata": {},
   "outputs": [],
   "source": [
    "class MulLayer():\n",
    "    def __init__(self):\n",
    "        self.x = None\n",
    "        self.y = None\n",
    "    \n",
    "    \n",
    "    def forward(self, x, y):\n",
    "        self.x = x\n",
    "        self.y = y\n",
    "        return x * y\n",
    "    \n",
    "    def backward(self, dout):\n",
    "        x = self.x\n",
    "        y = self.y\n",
    "        \n",
    "        dx = y * dout\n",
    "        dy = x * dout\n",
    "        \n",
    "        return dx, dy"
   ]
  },
  {
   "cell_type": "code",
   "execution_count": 18,
   "metadata": {},
   "outputs": [
    {
     "name": "stdout",
     "output_type": "stream",
     "text": [
      "220.00000000000003\n",
      "2.2 110.00000000000001 200\n"
     ]
    }
   ],
   "source": [
    "apple = 100\n",
    "apple_num = 2\n",
    "tax = 1.1\n",
    "\n",
    "mul_apple_layer = MulLayer()\n",
    "mul_tax_layer = MulLayer()\n",
    "\n",
    "## 순전파\n",
    "apple_price = mul_apple_layer.forward(apple, apple_num)\n",
    "price = mul_tax_layer.forward(apple_price, tax)\n",
    "print(price)\n",
    "\n",
    "## 역전파\n",
    "d_apple_price, d_tax = mul_tax_layer.backward(dprice := 1)\n",
    "d_apple, d_apple_num = mul_apple_layer.backward(d_apple_price)\n",
    "print(d_apple, d_apple_num, d_tax)"
   ]
  },
  {
   "cell_type": "code",
   "execution_count": 19,
   "metadata": {},
   "outputs": [],
   "source": [
    "class AddLayer():\n",
    "    def __init__(self):\n",
    "        pass\n",
    "        \n",
    "    \n",
    "    def forward(self, x, y):\n",
    "        return x + y\n",
    "    \n",
    "    def backward(self, dout):\n",
    "       dx = dy = dout\n",
    "       \n",
    "       return dx, dy"
   ]
  },
  {
   "cell_type": "code",
   "execution_count": 20,
   "metadata": {},
   "outputs": [],
   "source": [
    "class Relu():\n",
    "    def __init__(self):\n",
    "        self.mask = None\n",
    "    \n",
    "    def forward(self, x):\n",
    "        self.mask = (x <= 0)\n",
    "        out = x.copy()\n",
    "        out[self.mask] = 0\n",
    "        return out\n",
    "        \n",
    "    \n",
    "    def backward(self, dout):\n",
    "        dx = dout.copy()\n",
    "        dx[self.mask] = 0\n",
    "        return dx"
   ]
  },
  {
   "cell_type": "code",
   "execution_count": 21,
   "metadata": {},
   "outputs": [
    {
     "data": {
      "text/plain": [
       "array([[1., 0.],\n",
       "       [0., 3.]])"
      ]
     },
     "execution_count": 21,
     "metadata": {},
     "output_type": "execute_result"
    }
   ],
   "source": [
    "import numpy as np\n",
    "layer = Relu()\n",
    "\n",
    "x = np.array([[1.0, -0.5], [-2.0, 3.0]])\n",
    "layer.forward(x)"
   ]
  },
  {
   "cell_type": "markdown",
   "metadata": {},
   "source": [
    "### 5.5.2. 시그모이드 계층"
   ]
  },
  {
   "cell_type": "markdown",
   "metadata": {},
   "source": [
    "#### 직접 계산해보기"
   ]
  },
  {
   "cell_type": "code",
   "execution_count": 27,
   "metadata": {},
   "outputs": [],
   "source": [
    "class DivLayer():\n",
    "    def __init__(self):\n",
    "        self.x = None\n",
    "        \n",
    "    def forward(self, x):\n",
    "        self.x = x\n",
    "        out = 1/x\n",
    "        return out\n",
    "    \n",
    "    def backward(self, dout):\n",
    "        x = self.x\n",
    "        dx = -1/(x**2) * dout\n",
    "        return dx\n",
    "\n",
    "\n",
    "class ExpLayer():\n",
    "    def __init__(self):\n",
    "        self.x = None\n",
    "    \n",
    "    def forward(self, x):\n",
    "        self.x = x\n",
    "        out = np.exp(x)\n",
    "        return out\n",
    "    \n",
    "    def backward(self, dout):\n",
    "        x = self.x\n",
    "        dx = np.exp(x) * dout\n",
    "        return dx"
   ]
  },
  {
   "cell_type": "code",
   "execution_count": null,
   "metadata": {},
   "outputs": [
    {
     "name": "stdout",
     "output_type": "stream",
     "text": [
      "[-1 -2]\n",
      "[0.36787944 0.13533528]\n",
      "[1.36787944 1.13533528]\n",
      "[0.73105858 0.88079708]\n"
     ]
    }
   ],
   "source": [
    "## 순전파\n",
    "mul = MulLayer()\n",
    "exp = ExpLayer()\n",
    "add = AddLayer()\n",
    "div = DivLayer()\n",
    "\n",
    "x = np.array([1,2])\n",
    "mul_n = -1\n",
    "add_n = 1\n",
    "\n",
    "mul_out = mul.forward(x, mul_n)\n",
    "print(mul_out)\n",
    "\n",
    "exp_out = exp.forward(mul_out)\n",
    "print(exp_out)\n",
    "\n",
    "add_out = add.forward(exp_out, add_n)\n",
    "print(add_out)\n",
    "\n",
    "div_out = div.forward(add_out)\n",
    "print(div_out)"
   ]
  },
  {
   "cell_type": "code",
   "execution_count": null,
   "metadata": {},
   "outputs": [
    {
     "name": "stdout",
     "output_type": "stream",
     "text": [
      "[-0.53444665 -0.77580349]\n",
      "[-0.53444665 -0.77580349]\n",
      "[-0.19661193 -0.10499359]\n",
      "[0.19661193 0.10499359]\n"
     ]
    }
   ],
   "source": [
    "## 역전파\n",
    "d_div_out = div.backward(1)\n",
    "print(d_div_out)\n",
    "\n",
    "d_add_out, _ = add.backward(d_div_out)\n",
    "print(d_add_out)\n",
    "\n",
    "d_exp_out = exp.backward(d_add_out)\n",
    "print(d_exp_out)\n",
    "\n",
    "d_mul_out, _ = mul.backward(d_exp_out)\n",
    "print(d_mul_out)"
   ]
  },
  {
   "cell_type": "markdown",
   "metadata": {},
   "source": [
    "#### 시그모이드 모듈로 계산하기"
   ]
  },
  {
   "cell_type": "code",
   "execution_count": 28,
   "metadata": {},
   "outputs": [],
   "source": [
    "class Sigmoid():\n",
    "    def __init__(self):\n",
    "        self.out = None\n",
    "    \n",
    "    def forward(self, x):\n",
    "        out = 1 / (1 + np.exp(-x))\n",
    "        self.out = out\n",
    "        return out\n",
    "    \n",
    "    def backward(self, dout):\n",
    "        out = self.out\n",
    "        dx = dout * out * (1 - out)\n",
    "        return dx"
   ]
  },
  {
   "cell_type": "code",
   "execution_count": 41,
   "metadata": {},
   "outputs": [
    {
     "name": "stdout",
     "output_type": "stream",
     "text": [
      "[0.73105858 0.88079708]\n",
      "[0.19661193 0.10499359]\n"
     ]
    }
   ],
   "source": [
    "sig = Sigmoid()\n",
    "\n",
    "out = sig.forward(x)\n",
    "print(out)\n",
    "\n",
    "dx = sig.backward(1)\n",
    "print(dx)"
   ]
  },
  {
   "cell_type": "markdown",
   "metadata": {},
   "source": [
    "## 5.6. Affine/Softmax층 계산"
   ]
  },
  {
   "cell_type": "code",
   "execution_count": null,
   "metadata": {},
   "outputs": [],
   "source": []
  }
 ],
 "metadata": {
  "kernelspec": {
   "display_name": "Python 3",
   "language": "python",
   "name": "python3"
  },
  "language_info": {
   "codemirror_mode": {
    "name": "ipython",
    "version": 3
   },
   "file_extension": ".py",
   "mimetype": "text/x-python",
   "name": "python",
   "nbconvert_exporter": "python",
   "pygments_lexer": "ipython3",
   "version": "3.10.11"
  }
 },
 "nbformat": 4,
 "nbformat_minor": 2
}
