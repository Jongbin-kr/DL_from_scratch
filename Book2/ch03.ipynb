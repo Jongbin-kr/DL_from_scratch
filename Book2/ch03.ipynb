{
 "cells": [
  {
   "cell_type": "markdown",
   "metadata": {},
   "source": [
    "## 3.1."
   ]
  },
  {
   "cell_type": "code",
   "execution_count": 2,
   "metadata": {},
   "outputs": [
    {
     "name": "stdout",
     "output_type": "stream",
     "text": [
      "[[-0.97469954 -0.91540244  1.08640145]\n",
      " [ 0.52752251  2.41655744 -1.55914714]\n",
      " [-2.85632869 -1.06769199 -0.49370025]\n",
      " [ 0.93471156 -1.27753296 -1.44140749]\n",
      " [-1.97612585 -1.43337347 -0.10312917]\n",
      " [-2.08970765  0.32251255  0.12549656]\n",
      " [ 0.02141437  0.04944958 -0.99916695]]\n",
      "[[-0.97469954 -0.91540244  1.08640145]]\n"
     ]
    }
   ],
   "source": [
    "import numpy as np\n",
    "\n",
    "c = np.array([[1, 0, 0, 0, 0, 0, 0]])\n",
    "W = np.random.randn(7, 3)\n",
    "print(W)\n",
    "h = c @ W\n",
    "print(h)"
   ]
  },
  {
   "cell_type": "code",
   "execution_count": 6,
   "metadata": {},
   "outputs": [
    {
     "name": "stdout",
     "output_type": "stream",
     "text": [
      "[[ 0.11223176  0.55746567  0.53828026]\n",
      " [-1.27609581  1.13860589  0.89705676]\n",
      " [-1.69177519 -0.35153665  1.82963954]\n",
      " [ 0.6695847   0.21658624  0.18038846]\n",
      " [-0.1623058   0.53770619 -0.11069966]\n",
      " [-1.75581238  0.1428787  -0.34371074]\n",
      " [-0.38509651  1.65000981 -0.57113696]]\n",
      "[0.11223176 0.55746567 0.53828026]\n"
     ]
    }
   ],
   "source": [
    "import numpy as np\n",
    "\n",
    "class MatMul():\n",
    "    def __init__(self, W):\n",
    "        self.params = [W]\n",
    "        self.grads = [np.zeros_like(W)]\n",
    "        self.x = None\n",
    "    \n",
    "    \n",
    "    def forward(self, x):\n",
    "        W = self.params[0]\n",
    "        self.x = x\n",
    "        out = x @ W\n",
    "        return out\n",
    "    \n",
    "    \n",
    "    def backward(self, dout):\n",
    "        W,  = self.params\n",
    "        dx = dout @ W.T\n",
    "        dW = self.x.T @ dout\n",
    "        self.grads[0][:] = dW\n",
    "        return dx\n",
    "    \n",
    "C = np.array([1, 0, 0, 0, 0, 0, 0])\n",
    "W = np.random.randn(7, 3)\n",
    "layer = MatMul(W)\n",
    "h = layer.forward(C)\n",
    "\n",
    "print(W)\n",
    "print(h)"
   ]
  },
  {
   "cell_type": "markdown",
   "metadata": {},
   "source": [
    "## 3.2. 단순한 word2vec"
   ]
  },
  {
   "cell_type": "code",
   "execution_count": 9,
   "metadata": {},
   "outputs": [
    {
     "name": "stdout",
     "output_type": "stream",
     "text": [
      "[[-0.12915369 -0.67828126  0.91318618  0.48959303 -2.07165867 -0.82535997\n",
      "   0.98388772]]\n"
     ]
    }
   ],
   "source": [
    "class MatMul():\n",
    "    def __init__(self, W):\n",
    "        self.params = [W]\n",
    "        self.grads = [np.zeros_like(W)]\n",
    "        \n",
    "        self.x = None\n",
    "        \n",
    "    def forward(self, x):\n",
    "        W, = self.params\n",
    "        self.x = x\n",
    "        out = x @ W\n",
    "        return out\n",
    "    \n",
    "    def backward(self, dout):\n",
    "        x = self.x\n",
    "        W, = self.params\n",
    "        \n",
    "        dW = x.T @ dout\n",
    "        self.grads[0][:] = dW\n",
    "        \n",
    "        dx = dout @ W.T\n",
    "        return dx\n",
    "    \n",
    "c0 = np.array([[1, 0, 0, 0, 0, 0, 0]])\n",
    "c1 = np.array([[0, 1, 0, 0, 0, 0, 0]])\n",
    "\n",
    "W_in = np.random.randn(7, 3)\n",
    "W_out = np.random.randn(3, 7)\n",
    "\n",
    "in_layer0 = MatMul(W_in)\n",
    "in_layer1 = MatMul(W_in)\n",
    "out_layer = MatMul(W_out)\n",
    "\n",
    "h0 = in_layer0.forward(c0)\n",
    "h1 = in_layer0.forward(c1)\n",
    "h = 0.5 * (h0 + h1)\n",
    "s = out_layer.forward(h)\n",
    "\n",
    "print(s)"
   ]
  },
  {
   "cell_type": "code",
   "execution_count": 5,
   "metadata": {},
   "outputs": [],
   "source": [
    "from common.util import preprocess, create_contexts_target, convert_one_hot\n",
    "\n",
    "corpus, word_to_id, id_to_word = preprocess(\"You say goodbye and I say hello.\")\n",
    "\n",
    "contexts, target = create_contexts_target(corpus)"
   ]
  },
  {
   "cell_type": "code",
   "execution_count": 6,
   "metadata": {},
   "outputs": [
    {
     "data": {
      "text/plain": [
       "((6, 2, 7), (6, 7))"
      ]
     },
     "execution_count": 6,
     "metadata": {},
     "output_type": "execute_result"
    }
   ],
   "source": [
    "vocab_size = len(word_to_id)\n",
    "convert_one_hot(contexts, vocab_size).shape, convert_one_hot(target, vocab_size).shape"
   ]
  },
  {
   "cell_type": "markdown",
   "metadata": {},
   "source": [
    "## 3.4. CBOW 모델 구현"
   ]
  }
 ],
 "metadata": {
  "kernelspec": {
   "display_name": "Python 3",
   "language": "python",
   "name": "python3"
  },
  "language_info": {
   "codemirror_mode": {
    "name": "ipython",
    "version": 3
   },
   "file_extension": ".py",
   "mimetype": "text/x-python",
   "name": "python",
   "nbconvert_exporter": "python",
   "pygments_lexer": "ipython3",
   "version": "3.10.11"
  }
 },
 "nbformat": 4,
 "nbformat_minor": 2
}
